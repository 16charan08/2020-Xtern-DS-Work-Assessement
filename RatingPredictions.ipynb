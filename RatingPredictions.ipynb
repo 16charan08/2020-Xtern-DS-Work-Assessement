{
  "nbformat": 4,
  "nbformat_minor": 0,
  "metadata": {
    "colab": {
      "name": "RatingPredictions.ipynb",
      "provenance": [],
      "collapsed_sections": []
    },
    "kernelspec": {
      "name": "python3",
      "display_name": "Python 3"
    }
  },
  "cells": [
    {
      "cell_type": "markdown",
      "metadata": {
        "id": "X7zmypiCs9ri"
      },
      "source": [
        "# Prediction of ratings based on given data"
      ]
    },
    {
      "cell_type": "markdown",
      "metadata": {
        "id": "YVKm7ClewnWI"
      },
      "source": [
        "Ram charan Reddy Kankanala"
      ]
    },
    {
      "cell_type": "code",
      "metadata": {
        "id": "f86rvxRts5Vg"
      },
      "source": [
        "import pandas as pd\n",
        "import numpy as np\n",
        "from sklearn.model_selection import train_test_split\n",
        "from sklearn import model_selection\n",
        "from scipy.stats import zscore\n",
        "from sklearn.metrics import explained_variance_score\n",
        "from sklearn.linear_model import LinearRegression\n",
        "from sklearn import metrics\n",
        "from sklearn.metrics import r2_score\n",
        "import matplotlib.pyplot as plt"
      ],
      "execution_count": 2,
      "outputs": []
    },
    {
      "cell_type": "code",
      "metadata": {
        "id": "qewiBzLBEUxc"
      },
      "source": [
        "data = pd.read_csv(\"2020-XTern-DS.csv\")"
      ],
      "execution_count": 3,
      "outputs": []
    },
    {
      "cell_type": "code",
      "metadata": {
        "id": "KjTLK3d6EbNT",
        "outputId": "30e803cd-ee90-42ee-977b-6b60a2b6d99b",
        "colab": {
          "base_uri": "https://localhost:8080/",
          "height": 407
        }
      },
      "source": [
        "data"
      ],
      "execution_count": 4,
      "outputs": [
        {
          "output_type": "execute_result",
          "data": {
            "text/html": [
              "<div>\n",
              "<style scoped>\n",
              "    .dataframe tbody tr th:only-of-type {\n",
              "        vertical-align: middle;\n",
              "    }\n",
              "\n",
              "    .dataframe tbody tr th {\n",
              "        vertical-align: top;\n",
              "    }\n",
              "\n",
              "    .dataframe thead th {\n",
              "        text-align: right;\n",
              "    }\n",
              "</style>\n",
              "<table border=\"1\" class=\"dataframe\">\n",
              "  <thead>\n",
              "    <tr style=\"text-align: right;\">\n",
              "      <th></th>\n",
              "      <th>Restaurant</th>\n",
              "      <th>Latitude</th>\n",
              "      <th>Longitude</th>\n",
              "      <th>Cuisines</th>\n",
              "      <th>Average_Cost</th>\n",
              "      <th>Minimum_Order</th>\n",
              "      <th>Rating</th>\n",
              "      <th>Votes</th>\n",
              "      <th>Reviews</th>\n",
              "      <th>Cook_Time</th>\n",
              "    </tr>\n",
              "  </thead>\n",
              "  <tbody>\n",
              "    <tr>\n",
              "      <th>0</th>\n",
              "      <td>ID_6321</td>\n",
              "      <td>39.262605</td>\n",
              "      <td>-85.837372</td>\n",
              "      <td>Fast Food, Rolls, Burger, Salad, Wraps</td>\n",
              "      <td>$20.00</td>\n",
              "      <td>$50.00</td>\n",
              "      <td>3.5</td>\n",
              "      <td>12</td>\n",
              "      <td>4</td>\n",
              "      <td>30 minutes</td>\n",
              "    </tr>\n",
              "    <tr>\n",
              "      <th>1</th>\n",
              "      <td>ID_2882</td>\n",
              "      <td>39.775933</td>\n",
              "      <td>-85.740581</td>\n",
              "      <td>Ice Cream, Desserts</td>\n",
              "      <td>$10.00</td>\n",
              "      <td>$50.00</td>\n",
              "      <td>3.5</td>\n",
              "      <td>11</td>\n",
              "      <td>4</td>\n",
              "      <td>30 minutes</td>\n",
              "    </tr>\n",
              "    <tr>\n",
              "      <th>2</th>\n",
              "      <td>ID_1595</td>\n",
              "      <td>39.253436</td>\n",
              "      <td>-85.123779</td>\n",
              "      <td>Italian, Street Food, Fast Food</td>\n",
              "      <td>$15.00</td>\n",
              "      <td>$50.00</td>\n",
              "      <td>3.6</td>\n",
              "      <td>99</td>\n",
              "      <td>30</td>\n",
              "      <td>65 minutes</td>\n",
              "    </tr>\n",
              "    <tr>\n",
              "      <th>3</th>\n",
              "      <td>ID_5929</td>\n",
              "      <td>39.029841</td>\n",
              "      <td>-85.332050</td>\n",
              "      <td>Mughlai, North Indian, Chinese</td>\n",
              "      <td>$25.00</td>\n",
              "      <td>$99.00</td>\n",
              "      <td>3.7</td>\n",
              "      <td>176</td>\n",
              "      <td>95</td>\n",
              "      <td>30 minutes</td>\n",
              "    </tr>\n",
              "    <tr>\n",
              "      <th>4</th>\n",
              "      <td>ID_6123</td>\n",
              "      <td>39.882284</td>\n",
              "      <td>-85.517407</td>\n",
              "      <td>Cafe, Beverages</td>\n",
              "      <td>$20.00</td>\n",
              "      <td>$99.00</td>\n",
              "      <td>3.2</td>\n",
              "      <td>521</td>\n",
              "      <td>235</td>\n",
              "      <td>65 minutes</td>\n",
              "    </tr>\n",
              "    <tr>\n",
              "      <th>...</th>\n",
              "      <td>...</td>\n",
              "      <td>...</td>\n",
              "      <td>...</td>\n",
              "      <td>...</td>\n",
              "      <td>...</td>\n",
              "      <td>...</td>\n",
              "      <td>...</td>\n",
              "      <td>...</td>\n",
              "      <td>...</td>\n",
              "      <td>...</td>\n",
              "    </tr>\n",
              "    <tr>\n",
              "      <th>2014</th>\n",
              "      <td>ID_4366</td>\n",
              "      <td>39.624978</td>\n",
              "      <td>-85.189212</td>\n",
              "      <td>North Indian, Pizza, Burger, Continental</td>\n",
              "      <td>$40.00</td>\n",
              "      <td>$0.00</td>\n",
              "      <td>-</td>\n",
              "      <td>-</td>\n",
              "      <td>-</td>\n",
              "      <td>30 minutes</td>\n",
              "    </tr>\n",
              "    <tr>\n",
              "      <th>2015</th>\n",
              "      <td>ID_319</td>\n",
              "      <td>39.133719</td>\n",
              "      <td>-85.503020</td>\n",
              "      <td>Awadhi, Bihari</td>\n",
              "      <td>$40.00</td>\n",
              "      <td>$99.00</td>\n",
              "      <td>4.1</td>\n",
              "      <td>118</td>\n",
              "      <td>91</td>\n",
              "      <td>30 minutes</td>\n",
              "    </tr>\n",
              "    <tr>\n",
              "      <th>2016</th>\n",
              "      <td>ID_3104</td>\n",
              "      <td>39.662987</td>\n",
              "      <td>-85.950894</td>\n",
              "      <td>Fast Food, Beverages</td>\n",
              "      <td>$10.00</td>\n",
              "      <td>$50.00</td>\n",
              "      <td>NEW</td>\n",
              "      <td>-</td>\n",
              "      <td>-</td>\n",
              "      <td>30 minutes</td>\n",
              "    </tr>\n",
              "    <tr>\n",
              "      <th>2017</th>\n",
              "      <td>ID_4396</td>\n",
              "      <td>39.301765</td>\n",
              "      <td>-85.662768</td>\n",
              "      <td>Kebab, Fast Food</td>\n",
              "      <td>$10.00</td>\n",
              "      <td>$50.00</td>\n",
              "      <td>-</td>\n",
              "      <td>-</td>\n",
              "      <td>-</td>\n",
              "      <td>30 minutes</td>\n",
              "    </tr>\n",
              "    <tr>\n",
              "      <th>2018</th>\n",
              "      <td>ID_8403</td>\n",
              "      <td>39.460944</td>\n",
              "      <td>-85.484355</td>\n",
              "      <td>Desserts, Beverages</td>\n",
              "      <td>$150.00</td>\n",
              "      <td>$50.00</td>\n",
              "      <td>4.1</td>\n",
              "      <td>271</td>\n",
              "      <td>172</td>\n",
              "      <td>45 minutes</td>\n",
              "    </tr>\n",
              "  </tbody>\n",
              "</table>\n",
              "<p>2019 rows × 10 columns</p>\n",
              "</div>"
            ],
            "text/plain": [
              "     Restaurant   Latitude  Longitude  ... Votes Reviews   Cook_Time\n",
              "0       ID_6321  39.262605 -85.837372  ...    12       4  30 minutes\n",
              "1       ID_2882  39.775933 -85.740581  ...    11       4  30 minutes\n",
              "2       ID_1595  39.253436 -85.123779  ...    99      30  65 minutes\n",
              "3       ID_5929  39.029841 -85.332050  ...   176      95  30 minutes\n",
              "4       ID_6123  39.882284 -85.517407  ...   521     235  65 minutes\n",
              "...         ...        ...        ...  ...   ...     ...         ...\n",
              "2014    ID_4366  39.624978 -85.189212  ...     -       -  30 minutes\n",
              "2015     ID_319  39.133719 -85.503020  ...   118      91  30 minutes\n",
              "2016    ID_3104  39.662987 -85.950894  ...     -       -  30 minutes\n",
              "2017    ID_4396  39.301765 -85.662768  ...     -       -  30 minutes\n",
              "2018    ID_8403  39.460944 -85.484355  ...   271     172  45 minutes\n",
              "\n",
              "[2019 rows x 10 columns]"
            ]
          },
          "metadata": {
            "tags": []
          },
          "execution_count": 4
        }
      ]
    },
    {
      "cell_type": "code",
      "metadata": {
        "id": "-fSRfREXEcfS",
        "outputId": "f836ce73-ae2a-4aa4-99f5-574710d02984",
        "colab": {
          "base_uri": "https://localhost:8080/",
          "height": 217
        }
      },
      "source": [
        "# Checking for null values\n",
        "data.isnull().sum() "
      ],
      "execution_count": 5,
      "outputs": [
        {
          "output_type": "execute_result",
          "data": {
            "text/plain": [
              "Restaurant       0\n",
              "Latitude         0\n",
              "Longitude        0\n",
              "Cuisines         0\n",
              "Average_Cost     0\n",
              "Minimum_Order    0\n",
              "Rating           0\n",
              "Votes            0\n",
              "Reviews          0\n",
              "Cook_Time        0\n",
              "dtype: int64"
            ]
          },
          "metadata": {
            "tags": []
          },
          "execution_count": 5
        }
      ]
    },
    {
      "cell_type": "code",
      "metadata": {
        "id": "q-k6vtJzEb7g"
      },
      "source": [
        "#Data preparation by removing restaurants with 'NEW' or 'Opening soon' rating and replacing - with 0\n",
        "ratingdata = data[data[\"Rating\"] != 'NEW']\n",
        "ratingdata = ratingdata[ratingdata[\"Rating\"] != 'Opening Soon']\n",
        "ratingdata = ratingdata.replace(r'-', 0 , regex=True)\n",
        "ratingdata.drop(['Restaurant'],axis=1,inplace=True)"
      ],
      "execution_count": 100,
      "outputs": []
    },
    {
      "cell_type": "code",
      "metadata": {
        "id": "um6C5yJihnPG"
      },
      "source": [
        "# Removing $ symbol and minutes from cook time\n",
        "ratingdata['Average_Cost'] = ratingdata['Average_Cost'].str.replace(',', '.')\n",
        "ratingdata['Average_Cost'] = ratingdata['Average_Cost'].str.replace('$', '')\n",
        "ratingdata['Minimum_Order'] = ratingdata['Minimum_Order'].str.replace('$', '')\n",
        "ratingdata['Cook_Time'] = ratingdata['Cook_Time'].str.replace(' minutes', '')\n",
        "#ratingdata['Average_Cost'] = ratingdata['Average_Cost'].astype(float)"
      ],
      "execution_count": 101,
      "outputs": []
    },
    {
      "cell_type": "code",
      "metadata": {
        "id": "hP2Vs1NRh58m",
        "outputId": "4a70829a-62c8-4c11-cad9-32a2722cba50",
        "colab": {
          "base_uri": "https://localhost:8080/",
          "height": 407
        }
      },
      "source": [
        "ratingdata"
      ],
      "execution_count": 102,
      "outputs": [
        {
          "output_type": "execute_result",
          "data": {
            "text/html": [
              "<div>\n",
              "<style scoped>\n",
              "    .dataframe tbody tr th:only-of-type {\n",
              "        vertical-align: middle;\n",
              "    }\n",
              "\n",
              "    .dataframe tbody tr th {\n",
              "        vertical-align: top;\n",
              "    }\n",
              "\n",
              "    .dataframe thead th {\n",
              "        text-align: right;\n",
              "    }\n",
              "</style>\n",
              "<table border=\"1\" class=\"dataframe\">\n",
              "  <thead>\n",
              "    <tr style=\"text-align: right;\">\n",
              "      <th></th>\n",
              "      <th>Latitude</th>\n",
              "      <th>Longitude</th>\n",
              "      <th>Cuisines</th>\n",
              "      <th>Average_Cost</th>\n",
              "      <th>Minimum_Order</th>\n",
              "      <th>Rating</th>\n",
              "      <th>Votes</th>\n",
              "      <th>Reviews</th>\n",
              "      <th>Cook_Time</th>\n",
              "    </tr>\n",
              "  </thead>\n",
              "  <tbody>\n",
              "    <tr>\n",
              "      <th>0</th>\n",
              "      <td>39.262605</td>\n",
              "      <td>-85.837372</td>\n",
              "      <td>Fast Food, Rolls, Burger, Salad, Wraps</td>\n",
              "      <td>20.00</td>\n",
              "      <td>50.00</td>\n",
              "      <td>3.5</td>\n",
              "      <td>12</td>\n",
              "      <td>4</td>\n",
              "      <td>30</td>\n",
              "    </tr>\n",
              "    <tr>\n",
              "      <th>1</th>\n",
              "      <td>39.775933</td>\n",
              "      <td>-85.740581</td>\n",
              "      <td>Ice Cream, Desserts</td>\n",
              "      <td>10.00</td>\n",
              "      <td>50.00</td>\n",
              "      <td>3.5</td>\n",
              "      <td>11</td>\n",
              "      <td>4</td>\n",
              "      <td>30</td>\n",
              "    </tr>\n",
              "    <tr>\n",
              "      <th>2</th>\n",
              "      <td>39.253436</td>\n",
              "      <td>-85.123779</td>\n",
              "      <td>Italian, Street Food, Fast Food</td>\n",
              "      <td>15.00</td>\n",
              "      <td>50.00</td>\n",
              "      <td>3.6</td>\n",
              "      <td>99</td>\n",
              "      <td>30</td>\n",
              "      <td>65</td>\n",
              "    </tr>\n",
              "    <tr>\n",
              "      <th>3</th>\n",
              "      <td>39.029841</td>\n",
              "      <td>-85.332050</td>\n",
              "      <td>Mughlai, North Indian, Chinese</td>\n",
              "      <td>25.00</td>\n",
              "      <td>99.00</td>\n",
              "      <td>3.7</td>\n",
              "      <td>176</td>\n",
              "      <td>95</td>\n",
              "      <td>30</td>\n",
              "    </tr>\n",
              "    <tr>\n",
              "      <th>4</th>\n",
              "      <td>39.882284</td>\n",
              "      <td>-85.517407</td>\n",
              "      <td>Cafe, Beverages</td>\n",
              "      <td>20.00</td>\n",
              "      <td>99.00</td>\n",
              "      <td>3.2</td>\n",
              "      <td>521</td>\n",
              "      <td>235</td>\n",
              "      <td>65</td>\n",
              "    </tr>\n",
              "    <tr>\n",
              "      <th>...</th>\n",
              "      <td>...</td>\n",
              "      <td>...</td>\n",
              "      <td>...</td>\n",
              "      <td>...</td>\n",
              "      <td>...</td>\n",
              "      <td>...</td>\n",
              "      <td>...</td>\n",
              "      <td>...</td>\n",
              "      <td>...</td>\n",
              "    </tr>\n",
              "    <tr>\n",
              "      <th>2013</th>\n",
              "      <td>39.764745</td>\n",
              "      <td>-85.121567</td>\n",
              "      <td>Bengali</td>\n",
              "      <td>20.00</td>\n",
              "      <td>50.00</td>\n",
              "      <td>3.3</td>\n",
              "      <td>16</td>\n",
              "      <td>6</td>\n",
              "      <td>30</td>\n",
              "    </tr>\n",
              "    <tr>\n",
              "      <th>2014</th>\n",
              "      <td>39.624978</td>\n",
              "      <td>-85.189212</td>\n",
              "      <td>North Indian, Pizza, Burger, Continental</td>\n",
              "      <td>40.00</td>\n",
              "      <td>0.00</td>\n",
              "      <td>0</td>\n",
              "      <td>0</td>\n",
              "      <td>0</td>\n",
              "      <td>30</td>\n",
              "    </tr>\n",
              "    <tr>\n",
              "      <th>2015</th>\n",
              "      <td>39.133719</td>\n",
              "      <td>-85.503020</td>\n",
              "      <td>Awadhi, Bihari</td>\n",
              "      <td>40.00</td>\n",
              "      <td>99.00</td>\n",
              "      <td>4.1</td>\n",
              "      <td>118</td>\n",
              "      <td>91</td>\n",
              "      <td>30</td>\n",
              "    </tr>\n",
              "    <tr>\n",
              "      <th>2017</th>\n",
              "      <td>39.301765</td>\n",
              "      <td>-85.662768</td>\n",
              "      <td>Kebab, Fast Food</td>\n",
              "      <td>10.00</td>\n",
              "      <td>50.00</td>\n",
              "      <td>0</td>\n",
              "      <td>0</td>\n",
              "      <td>0</td>\n",
              "      <td>30</td>\n",
              "    </tr>\n",
              "    <tr>\n",
              "      <th>2018</th>\n",
              "      <td>39.460944</td>\n",
              "      <td>-85.484355</td>\n",
              "      <td>Desserts, Beverages</td>\n",
              "      <td>150.00</td>\n",
              "      <td>50.00</td>\n",
              "      <td>4.1</td>\n",
              "      <td>271</td>\n",
              "      <td>172</td>\n",
              "      <td>45</td>\n",
              "    </tr>\n",
              "  </tbody>\n",
              "</table>\n",
              "<p>1882 rows × 9 columns</p>\n",
              "</div>"
            ],
            "text/plain": [
              "       Latitude  Longitude  ... Reviews Cook_Time\n",
              "0     39.262605 -85.837372  ...       4        30\n",
              "1     39.775933 -85.740581  ...       4        30\n",
              "2     39.253436 -85.123779  ...      30        65\n",
              "3     39.029841 -85.332050  ...      95        30\n",
              "4     39.882284 -85.517407  ...     235        65\n",
              "...         ...        ...  ...     ...       ...\n",
              "2013  39.764745 -85.121567  ...       6        30\n",
              "2014  39.624978 -85.189212  ...       0        30\n",
              "2015  39.133719 -85.503020  ...      91        30\n",
              "2017  39.301765 -85.662768  ...       0        30\n",
              "2018  39.460944 -85.484355  ...     172        45\n",
              "\n",
              "[1882 rows x 9 columns]"
            ]
          },
          "metadata": {
            "tags": []
          },
          "execution_count": 102
        }
      ]
    },
    {
      "cell_type": "code",
      "metadata": {
        "id": "w7XTHSL4KTom"
      },
      "source": [
        "# X and y\n",
        "X=ratingdata.drop('Rating',axis=1)\n",
        "y=ratingdata['Rating']"
      ],
      "execution_count": 147,
      "outputs": []
    },
    {
      "cell_type": "code",
      "metadata": {
        "id": "bnelop5aKMax"
      },
      "source": [
        "# Spliting into train and test\n",
        "X_train, X_test, y_train, y_test = train_test_split(X, y, test_size=0.3, random_state=42)"
      ],
      "execution_count": 148,
      "outputs": []
    },
    {
      "cell_type": "code",
      "metadata": {
        "id": "6ia3kQphKWlm",
        "outputId": "507efbe1-21ff-433c-803c-2062ce74d5f6",
        "colab": {
          "base_uri": "https://localhost:8080/",
          "height": 181
        }
      },
      "source": [
        "X.isnull().sum()"
      ],
      "execution_count": 149,
      "outputs": [
        {
          "output_type": "execute_result",
          "data": {
            "text/plain": [
              "Latitude         0\n",
              "Longitude        0\n",
              "Cuisines         0\n",
              "Average_Cost     0\n",
              "Minimum_Order    0\n",
              "Votes            0\n",
              "Reviews          0\n",
              "Cook_Time        0\n",
              "dtype: int64"
            ]
          },
          "metadata": {
            "tags": []
          },
          "execution_count": 149
        }
      ]
    },
    {
      "cell_type": "code",
      "metadata": {
        "id": "N-UNR7QeKZGm",
        "outputId": "ec93147d-dba2-42bf-b46d-a28eb36467c0",
        "colab": {
          "base_uri": "https://localhost:8080/",
          "height": 235
        }
      },
      "source": [
        "# checking for number of cuisines in each row\n",
        "ratingdata.Cuisines.value_counts()"
      ],
      "execution_count": 150,
      "outputs": [
        {
          "output_type": "execute_result",
          "data": {
            "text/plain": [
              "North Indian                               140\n",
              "North Indian, Chinese                      114\n",
              "Fast Food                                   81\n",
              "South Indian                                58\n",
              "Chinese                                     34\n",
              "                                          ... \n",
              "Fast Food, Pizza, North Indian, Momos        1\n",
              "Momos, Tibetan, Beverages                    1\n",
              "Sandwich, Chinese, Fast Food, Beverages      1\n",
              "Bakery, Desserts, Sandwich                   1\n",
              "European, American, Bakery, Salad            1\n",
              "Name: Cuisines, Length: 690, dtype: int64"
            ]
          },
          "metadata": {
            "tags": []
          },
          "execution_count": 150
        }
      ]
    },
    {
      "cell_type": "code",
      "metadata": {
        "id": "ILgzHvTGKZKO",
        "outputId": "a06157bb-7b51-4fd2-ad0e-9ad354158f88",
        "colab": {
          "base_uri": "https://localhost:8080/",
          "height": 326
        }
      },
      "source": [
        "# creating new no of cuisines columns \n",
        "X_train['no_of_cuisines'] = data.Cuisines.str.count(',')+1\n",
        "X_test['no_of_cuisines'] = data.Cuisines.str.count(',')+1\n",
        "X_train.drop(['Cuisines'],axis=1,inplace=True)\n",
        "X_test.drop(['Cuisines'],axis=1,inplace=True)"
      ],
      "execution_count": 151,
      "outputs": [
        {
          "output_type": "stream",
          "text": [
            "/usr/local/lib/python3.6/dist-packages/ipykernel_launcher.py:2: SettingWithCopyWarning: \n",
            "A value is trying to be set on a copy of a slice from a DataFrame.\n",
            "Try using .loc[row_indexer,col_indexer] = value instead\n",
            "\n",
            "See the caveats in the documentation: https://pandas.pydata.org/pandas-docs/stable/user_guide/indexing.html#returning-a-view-versus-a-copy\n",
            "  \n",
            "/usr/local/lib/python3.6/dist-packages/ipykernel_launcher.py:3: SettingWithCopyWarning: \n",
            "A value is trying to be set on a copy of a slice from a DataFrame.\n",
            "Try using .loc[row_indexer,col_indexer] = value instead\n",
            "\n",
            "See the caveats in the documentation: https://pandas.pydata.org/pandas-docs/stable/user_guide/indexing.html#returning-a-view-versus-a-copy\n",
            "  This is separate from the ipykernel package so we can avoid doing imports until\n",
            "/usr/local/lib/python3.6/dist-packages/pandas/core/frame.py:4169: SettingWithCopyWarning: \n",
            "A value is trying to be set on a copy of a slice from a DataFrame\n",
            "\n",
            "See the caveats in the documentation: https://pandas.pydata.org/pandas-docs/stable/user_guide/indexing.html#returning-a-view-versus-a-copy\n",
            "  errors=errors,\n"
          ],
          "name": "stderr"
        }
      ]
    },
    {
      "cell_type": "code",
      "metadata": {
        "id": "9LNVsetgk5bm",
        "outputId": "01988a7d-953a-4cc0-a9d4-832d04d0da59",
        "colab": {
          "base_uri": "https://localhost:8080/",
          "height": 288
        }
      },
      "source": [
        "X_train = X_train.applymap(float)\n",
        "X_test = X_test.applymap(float)\n",
        "X_train.corr()"
      ],
      "execution_count": 152,
      "outputs": [
        {
          "output_type": "execute_result",
          "data": {
            "text/html": [
              "<div>\n",
              "<style scoped>\n",
              "    .dataframe tbody tr th:only-of-type {\n",
              "        vertical-align: middle;\n",
              "    }\n",
              "\n",
              "    .dataframe tbody tr th {\n",
              "        vertical-align: top;\n",
              "    }\n",
              "\n",
              "    .dataframe thead th {\n",
              "        text-align: right;\n",
              "    }\n",
              "</style>\n",
              "<table border=\"1\" class=\"dataframe\">\n",
              "  <thead>\n",
              "    <tr style=\"text-align: right;\">\n",
              "      <th></th>\n",
              "      <th>Latitude</th>\n",
              "      <th>Longitude</th>\n",
              "      <th>Average_Cost</th>\n",
              "      <th>Minimum_Order</th>\n",
              "      <th>Votes</th>\n",
              "      <th>Reviews</th>\n",
              "      <th>Cook_Time</th>\n",
              "      <th>no_of_cuisines</th>\n",
              "    </tr>\n",
              "  </thead>\n",
              "  <tbody>\n",
              "    <tr>\n",
              "      <th>Latitude</th>\n",
              "      <td>1.000000</td>\n",
              "      <td>0.001608</td>\n",
              "      <td>0.022546</td>\n",
              "      <td>-0.015871</td>\n",
              "      <td>0.025799</td>\n",
              "      <td>0.021317</td>\n",
              "      <td>0.008187</td>\n",
              "      <td>0.007757</td>\n",
              "    </tr>\n",
              "    <tr>\n",
              "      <th>Longitude</th>\n",
              "      <td>0.001608</td>\n",
              "      <td>1.000000</td>\n",
              "      <td>0.008465</td>\n",
              "      <td>0.015142</td>\n",
              "      <td>-0.022865</td>\n",
              "      <td>-0.021254</td>\n",
              "      <td>-0.033356</td>\n",
              "      <td>0.033826</td>\n",
              "    </tr>\n",
              "    <tr>\n",
              "      <th>Average_Cost</th>\n",
              "      <td>0.022546</td>\n",
              "      <td>0.008465</td>\n",
              "      <td>1.000000</td>\n",
              "      <td>0.228372</td>\n",
              "      <td>0.409216</td>\n",
              "      <td>0.435215</td>\n",
              "      <td>0.214460</td>\n",
              "      <td>0.352730</td>\n",
              "    </tr>\n",
              "    <tr>\n",
              "      <th>Minimum_Order</th>\n",
              "      <td>-0.015871</td>\n",
              "      <td>0.015142</td>\n",
              "      <td>0.228372</td>\n",
              "      <td>1.000000</td>\n",
              "      <td>0.143682</td>\n",
              "      <td>0.150048</td>\n",
              "      <td>0.228357</td>\n",
              "      <td>0.028210</td>\n",
              "    </tr>\n",
              "    <tr>\n",
              "      <th>Votes</th>\n",
              "      <td>0.025799</td>\n",
              "      <td>-0.022865</td>\n",
              "      <td>0.409216</td>\n",
              "      <td>0.143682</td>\n",
              "      <td>1.000000</td>\n",
              "      <td>0.964198</td>\n",
              "      <td>0.209086</td>\n",
              "      <td>0.265908</td>\n",
              "    </tr>\n",
              "    <tr>\n",
              "      <th>Reviews</th>\n",
              "      <td>0.021317</td>\n",
              "      <td>-0.021254</td>\n",
              "      <td>0.435215</td>\n",
              "      <td>0.150048</td>\n",
              "      <td>0.964198</td>\n",
              "      <td>1.000000</td>\n",
              "      <td>0.187264</td>\n",
              "      <td>0.255455</td>\n",
              "    </tr>\n",
              "    <tr>\n",
              "      <th>Cook_Time</th>\n",
              "      <td>0.008187</td>\n",
              "      <td>-0.033356</td>\n",
              "      <td>0.214460</td>\n",
              "      <td>0.228357</td>\n",
              "      <td>0.209086</td>\n",
              "      <td>0.187264</td>\n",
              "      <td>1.000000</td>\n",
              "      <td>0.138663</td>\n",
              "    </tr>\n",
              "    <tr>\n",
              "      <th>no_of_cuisines</th>\n",
              "      <td>0.007757</td>\n",
              "      <td>0.033826</td>\n",
              "      <td>0.352730</td>\n",
              "      <td>0.028210</td>\n",
              "      <td>0.265908</td>\n",
              "      <td>0.255455</td>\n",
              "      <td>0.138663</td>\n",
              "      <td>1.000000</td>\n",
              "    </tr>\n",
              "  </tbody>\n",
              "</table>\n",
              "</div>"
            ],
            "text/plain": [
              "                Latitude  Longitude  ...  Cook_Time  no_of_cuisines\n",
              "Latitude        1.000000   0.001608  ...   0.008187        0.007757\n",
              "Longitude       0.001608   1.000000  ...  -0.033356        0.033826\n",
              "Average_Cost    0.022546   0.008465  ...   0.214460        0.352730\n",
              "Minimum_Order  -0.015871   0.015142  ...   0.228357        0.028210\n",
              "Votes           0.025799  -0.022865  ...   0.209086        0.265908\n",
              "Reviews         0.021317  -0.021254  ...   0.187264        0.255455\n",
              "Cook_Time       0.008187  -0.033356  ...   1.000000        0.138663\n",
              "no_of_cuisines  0.007757   0.033826  ...   0.138663        1.000000\n",
              "\n",
              "[8 rows x 8 columns]"
            ]
          },
          "metadata": {
            "tags": []
          },
          "execution_count": 152
        }
      ]
    },
    {
      "cell_type": "code",
      "metadata": {
        "id": "eE-47ZGQi5zg"
      },
      "source": [
        "X_train.drop(['Minimum_Order','Latitude','Longitude','Cook_Time'],axis=1,inplace=True)\n",
        "X_test.drop(['Minimum_Order','Latitude','Longitude','Cook_Time'],axis=1,inplace=True)"
      ],
      "execution_count": 153,
      "outputs": []
    },
    {
      "cell_type": "code",
      "metadata": {
        "id": "dkXeUeZ7rYoG"
      },
      "source": [
        "y_test = [float(i) for i in y_test]"
      ],
      "execution_count": 154,
      "outputs": []
    },
    {
      "cell_type": "code",
      "metadata": {
        "id": "3oezd88MiF1S"
      },
      "source": [
        "train_scale = X_train\n",
        "test_scale = X_test"
      ],
      "execution_count": 155,
      "outputs": []
    },
    {
      "cell_type": "code",
      "metadata": {
        "id": "8yyMW08Ti_3d",
        "outputId": "0b6d0df3-3f9a-4a11-d4fa-bd6fc5879e7c",
        "colab": {
          "base_uri": "https://localhost:8080/",
          "height": 35
        }
      },
      "source": [
        "# prediction from decision tree\n",
        "from sklearn.tree import DecisionTreeRegressor\n",
        "dt= DecisionTreeRegressor()\n",
        "dt.fit(train_scale,y_train)\n",
        "dt_pred=dt.predict(test_scale)\n",
        "print('RMSE score through Decision tree regression : ',np.sqrt(metrics.mean_squared_error(y_test,np.round(dt_pred,decimals=1))))"
      ],
      "execution_count": 156,
      "outputs": [
        {
          "output_type": "stream",
          "text": [
            "RMSE score through Decision tree regression :  0.5366398241697645\n"
          ],
          "name": "stdout"
        }
      ]
    },
    {
      "cell_type": "code",
      "metadata": {
        "id": "6R63AhUFo2mL",
        "outputId": "3c8639bb-49d9-4d5f-a037-fcd98e87eb85",
        "colab": {
          "base_uri": "https://localhost:8080/",
          "height": 35
        }
      },
      "source": [
        "# prediction from RandomForestRegressor\n",
        "from sklearn.ensemble import RandomForestRegressor\n",
        "rf= RandomForestRegressor()\n",
        "rf.fit(train_scale,y_train)\n",
        "rf_pred=rf.predict(test_scale)\n",
        "print('RMSE score through Random Forest : ',np.sqrt(metrics.mean_squared_error(y_test,np.round(rf_pred,decimals=1))))"
      ],
      "execution_count": 157,
      "outputs": [
        {
          "output_type": "stream",
          "text": [
            "RMSE score through Random Forest :  0.4748916970150197\n"
          ],
          "name": "stdout"
        }
      ]
    },
    {
      "cell_type": "code",
      "metadata": {
        "id": "jJd584YCo9-C",
        "outputId": "13953863-1a91-4c65-d446-30c84a865d16",
        "colab": {
          "base_uri": "https://localhost:8080/",
          "height": 383
        }
      },
      "source": [
        "# results plots\n",
        "plt.figure(figsize=(6,4),dpi=100)\n",
        "plt.plot(np.array(y_test),np.round(rf_pred,decimals=1),'*')\n",
        "plt.xlabel('Actual Rating',size=11)\n",
        "plt.ylabel('Predicted Ratinge using Random Forest',size=11)\n",
        "plt.show()"
      ],
      "execution_count": 158,
      "outputs": [
        {
          "output_type": "display_data",
          "data": {
            "image/png": "[encoded data removed]",
            "text/plain": [
              "<Figure size 600x400 with 1 Axes>"
            ]
          },
          "metadata": {
            "tags": [],
            "needs_background": "light"
          }
        }
      ]
    },
    {
      "cell_type": "code",
      "metadata": {
        "id": "SxcaZ5SsrQpm",
        "outputId": "02a59c1f-af9a-4f72-b12c-4a9b259ab933",
        "colab": {
          "base_uri": "https://localhost:8080/",
          "height": 383
        }
      },
      "source": [
        "# results comparision plots\n",
        "plt.figure(figsize=(6,4),dpi=100)\n",
        "plt.plot(y_test,rf_pred,'*',label='Random forest')\n",
        "plt.plot(y_test,dt_pred,'o',color='red',label='Decision tree',marker='s',markersize=4)\n",
        "plt.legend()\n",
        "plt.xlabel('Actual VRating',size=11)\n",
        "plt.ylabel('Predicted Rating',size=11)\n",
        "plt.show()"
      ],
      "execution_count": 159,
      "outputs": [
        {
          "output_type": "display_data",
          "data": {
            "image/png": "[encoded data removed]",
            "text/plain": [
              "<Figure size 600x400 with 1 Axes>"
            ]
          },
          "metadata": {
            "tags": [],
            "needs_background": "light"
          }
        }
      ]
    },
    {
      "cell_type": "code",
      "metadata": {
        "id": "K8itzii6tI11"
      },
      "source": [
        ""
      ],
      "execution_count": null,
      "outputs": []
    },
    {
      "cell_type": "code",
      "metadata": {
        "id": "iZGmN1cptJAy"
      },
      "source": [
        ""
      ],
      "execution_count": null,
      "outputs": []
    }
  ]
}