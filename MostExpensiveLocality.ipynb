{
  "nbformat": 4,
  "nbformat_minor": 0,
  "metadata": {
    "colab": {
      "name": "MostExpensiveLocality.ipynb",
      "provenance": [],
      "toc_visible": true
    },
    "kernelspec": {
      "name": "python3",
      "display_name": "Python 3"
    }
  },
  "cells": [
    {
      "cell_type": "markdown",
      "metadata": {
        "id": "5heji1glwuDy"
      },
      "source": [
        "# Most Expensive Locality"
      ]
    },
    {
      "cell_type": "code",
      "metadata": {
        "id": "mJFZvyEZwsCz"
      },
      "source": [
        "import pandas as pd\n",
        "import numpy as np\n",
        "import matplotlib.pyplot as plt\n",
        "import seaborn as sns\n",
        "import reverse_geocoder as rg \n",
        "import pprint "
      ],
      "execution_count": null,
      "outputs": []
    },
    {
      "cell_type": "code",
      "metadata": {
        "id": "Av4kutWzu4fz"
      },
      "source": [
        "pip install reverse_geocoder"
      ],
      "execution_count": null,
      "outputs": []
    },
    {
      "cell_type": "code",
      "metadata": {
        "id": "6u1fx0CWoaCA"
      },
      "source": [
        "data = pd.read_csv(\"2020-XTern-DS.csv\")\n",
        "# I am uploading a CSV file that contains Locality names please feel free to use it if you want to test it.\n",
        "\n",
        "#data = pd.read_csv(\"Xtern-DS-modified.csv\")\n"
      ],
      "execution_count": null,
      "outputs": []
    },
    {
      "cell_type": "code",
      "metadata": {
        "id": "GLYkSLcsu-vZ"
      },
      "source": [
        "# Function to get location name from Latitude\tLongitude\n",
        "def reverseGeocode(coordinates): \n",
        "    result = rg.search(coordinates) \n",
        "    #pprint.pprint(result) \n",
        "    return result"
      ],
      "execution_count": null,
      "outputs": []
    },
    {
      "cell_type": "code",
      "metadata": {
        "id": "9gdcDY7YofVw"
      },
      "source": [
        "#Data preparation by removing restaurants with 'NEW' or 'Opening soon' rating and replacing - with 0\n",
        "Localitydata = data[data[\"Rating\"] != 'NEW']\n",
        "Localitydata = Localitydata[Localitydata[\"Rating\"] != 'Opening Soon']\n",
        "Localitydata = Localitydata.replace(r'-', 0 , regex=True)\n",
        "Localitydata.drop(['Restaurant'],axis=1,inplace=True)"
      ],
      "execution_count": null,
      "outputs": []
    },
    {
      "cell_type": "code",
      "metadata": {
        "id": "pOMZeyFiofYq"
      },
      "source": [
        "# Removing $ symbol and minutes from cook time\n",
        "Localitydata['Average_Cost'] = Localitydata['Average_Cost'].str.replace(',', '.')\n",
        "Localitydata['Average_Cost'] = Localitydata['Average_Cost'].str.replace('$', '')\n",
        "Localitydata['Minimum_Order'] = Localitydata['Minimum_Order'].str.replace('$', '')\n",
        "Localitydata['Cook_Time'] = Localitydata['Cook_Time'].str.replace(' minutes', '')"
      ],
      "execution_count": null,
      "outputs": []
    },
    {
      "cell_type": "code",
      "metadata": {
        "id": "jpC1su3uqZ_N"
      },
      "source": [
        "# Looping through each row to add location column in data frame\n",
        "# Don't run this loop if you are using the modified CSV file that I uploaded\n",
        "for i, row in Localitydata.iterrows():\n",
        "  ifor_val = reverseGeocode((row['Latitude'],row['Longitude']))[0]['name']\n",
        "  Localitydata.at[i,'Locality'] = ifor_val\n",
        "### This loop is expensive will take some time to run"
      ],
      "execution_count": null,
      "outputs": []
    },
    {
      "cell_type": "code",
      "metadata": {
        "id": "Lz9kN7HgrDWq",
        "outputId": "c35f6173-5ac4-4490-9efb-8a7a7a74975f",
        "colab": {
          "base_uri": "https://localhost:8080/",
          "height": 407
        }
      },
      "source": [
        "Localitydata"
      ],
      "execution_count": null,
      "outputs": [
        {
          "output_type": "execute_result",
          "data": {
            "text/html": [
              "<div>\n",
              "<style scoped>\n",
              "    .dataframe tbody tr th:only-of-type {\n",
              "        vertical-align: middle;\n",
              "    }\n",
              "\n",
              "    .dataframe tbody tr th {\n",
              "        vertical-align: top;\n",
              "    }\n",
              "\n",
              "    .dataframe thead th {\n",
              "        text-align: right;\n",
              "    }\n",
              "</style>\n",
              "<table border=\"1\" class=\"dataframe\">\n",
              "  <thead>\n",
              "    <tr style=\"text-align: right;\">\n",
              "      <th></th>\n",
              "      <th>Latitude</th>\n",
              "      <th>Longitude</th>\n",
              "      <th>Cuisines</th>\n",
              "      <th>Average_Cost</th>\n",
              "      <th>Minimum_Order</th>\n",
              "      <th>Rating</th>\n",
              "      <th>Votes</th>\n",
              "      <th>Reviews</th>\n",
              "      <th>Cook_Time</th>\n",
              "      <th>Locality</th>\n",
              "    </tr>\n",
              "  </thead>\n",
              "  <tbody>\n",
              "    <tr>\n",
              "      <th>0</th>\n",
              "      <td>39.262605</td>\n",
              "      <td>-85.837372</td>\n",
              "      <td>Fast Food, Rolls, Burger, Salad, Wraps</td>\n",
              "      <td>20.00</td>\n",
              "      <td>50.00</td>\n",
              "      <td>3.5</td>\n",
              "      <td>12</td>\n",
              "      <td>4</td>\n",
              "      <td>30</td>\n",
              "      <td>Hope</td>\n",
              "    </tr>\n",
              "    <tr>\n",
              "      <th>1</th>\n",
              "      <td>39.775933</td>\n",
              "      <td>-85.740581</td>\n",
              "      <td>Ice Cream, Desserts</td>\n",
              "      <td>10.00</td>\n",
              "      <td>50.00</td>\n",
              "      <td>3.5</td>\n",
              "      <td>11</td>\n",
              "      <td>4</td>\n",
              "      <td>30</td>\n",
              "      <td>Greenfield</td>\n",
              "    </tr>\n",
              "    <tr>\n",
              "      <th>2</th>\n",
              "      <td>39.253436</td>\n",
              "      <td>-85.123779</td>\n",
              "      <td>Italian, Street Food, Fast Food</td>\n",
              "      <td>15.00</td>\n",
              "      <td>50.00</td>\n",
              "      <td>3.6</td>\n",
              "      <td>99</td>\n",
              "      <td>30</td>\n",
              "      <td>65</td>\n",
              "      <td>Sunman</td>\n",
              "    </tr>\n",
              "    <tr>\n",
              "      <th>3</th>\n",
              "      <td>39.029841</td>\n",
              "      <td>-85.332050</td>\n",
              "      <td>Mughlai, North Indian, Chinese</td>\n",
              "      <td>25.00</td>\n",
              "      <td>99.00</td>\n",
              "      <td>3.7</td>\n",
              "      <td>176</td>\n",
              "      <td>95</td>\n",
              "      <td>30</td>\n",
              "      <td>Versailles</td>\n",
              "    </tr>\n",
              "    <tr>\n",
              "      <th>4</th>\n",
              "      <td>39.882284</td>\n",
              "      <td>-85.517407</td>\n",
              "      <td>Cafe, Beverages</td>\n",
              "      <td>20.00</td>\n",
              "      <td>99.00</td>\n",
              "      <td>3.2</td>\n",
              "      <td>521</td>\n",
              "      <td>235</td>\n",
              "      <td>65</td>\n",
              "      <td>Knightstown</td>\n",
              "    </tr>\n",
              "    <tr>\n",
              "      <th>...</th>\n",
              "      <td>...</td>\n",
              "      <td>...</td>\n",
              "      <td>...</td>\n",
              "      <td>...</td>\n",
              "      <td>...</td>\n",
              "      <td>...</td>\n",
              "      <td>...</td>\n",
              "      <td>...</td>\n",
              "      <td>...</td>\n",
              "      <td>...</td>\n",
              "    </tr>\n",
              "    <tr>\n",
              "      <th>2013</th>\n",
              "      <td>39.764745</td>\n",
              "      <td>-85.121567</td>\n",
              "      <td>Bengali</td>\n",
              "      <td>20.00</td>\n",
              "      <td>50.00</td>\n",
              "      <td>3.3</td>\n",
              "      <td>16</td>\n",
              "      <td>6</td>\n",
              "      <td>30</td>\n",
              "      <td>Cambridge City</td>\n",
              "    </tr>\n",
              "    <tr>\n",
              "      <th>2014</th>\n",
              "      <td>39.624978</td>\n",
              "      <td>-85.189212</td>\n",
              "      <td>North Indian, Pizza, Burger, Continental</td>\n",
              "      <td>40.00</td>\n",
              "      <td>0.00</td>\n",
              "      <td>0</td>\n",
              "      <td>0</td>\n",
              "      <td>0</td>\n",
              "      <td>30</td>\n",
              "      <td>Connersville</td>\n",
              "    </tr>\n",
              "    <tr>\n",
              "      <th>2015</th>\n",
              "      <td>39.133719</td>\n",
              "      <td>-85.503020</td>\n",
              "      <td>Awadhi, Bihari</td>\n",
              "      <td>40.00</td>\n",
              "      <td>99.00</td>\n",
              "      <td>4.1</td>\n",
              "      <td>118</td>\n",
              "      <td>91</td>\n",
              "      <td>30</td>\n",
              "      <td>Westport</td>\n",
              "    </tr>\n",
              "    <tr>\n",
              "      <th>2017</th>\n",
              "      <td>39.301765</td>\n",
              "      <td>-85.662768</td>\n",
              "      <td>Kebab, Fast Food</td>\n",
              "      <td>10.00</td>\n",
              "      <td>50.00</td>\n",
              "      <td>0</td>\n",
              "      <td>0</td>\n",
              "      <td>0</td>\n",
              "      <td>30</td>\n",
              "      <td>Geneva</td>\n",
              "    </tr>\n",
              "    <tr>\n",
              "      <th>2018</th>\n",
              "      <td>39.460944</td>\n",
              "      <td>-85.484355</td>\n",
              "      <td>Desserts, Beverages</td>\n",
              "      <td>150.00</td>\n",
              "      <td>50.00</td>\n",
              "      <td>4.1</td>\n",
              "      <td>271</td>\n",
              "      <td>172</td>\n",
              "      <td>45</td>\n",
              "      <td>Greensburg</td>\n",
              "    </tr>\n",
              "  </tbody>\n",
              "</table>\n",
              "<p>1882 rows × 10 columns</p>\n",
              "</div>"
            ],
            "text/plain": [
              "       Latitude  Longitude  ... Cook_Time        Locality\n",
              "0     39.262605 -85.837372  ...        30            Hope\n",
              "1     39.775933 -85.740581  ...        30      Greenfield\n",
              "2     39.253436 -85.123779  ...        65          Sunman\n",
              "3     39.029841 -85.332050  ...        30      Versailles\n",
              "4     39.882284 -85.517407  ...        65     Knightstown\n",
              "...         ...        ...  ...       ...             ...\n",
              "2013  39.764745 -85.121567  ...        30  Cambridge City\n",
              "2014  39.624978 -85.189212  ...        30    Connersville\n",
              "2015  39.133719 -85.503020  ...        30        Westport\n",
              "2017  39.301765 -85.662768  ...        30          Geneva\n",
              "2018  39.460944 -85.484355  ...        45      Greensburg\n",
              "\n",
              "[1882 rows x 10 columns]"
            ]
          },
          "metadata": {
            "tags": []
          },
          "execution_count": 49
        }
      ]
    },
    {
      "cell_type": "code",
      "metadata": {
        "id": "Vm1eIUrNt4mR",
        "outputId": "8bdbf3bd-090d-4020-be37-7420b1cbd9e6",
        "colab": {
          "base_uri": "https://localhost:8080/",
          "height": 799
        }
      },
      "source": [
        "Localitydata['Locality'].value_counts()"
      ],
      "execution_count": null,
      "outputs": [
        {
          "output_type": "execute_result",
          "data": {
            "text/plain": [
              "Rushville               122\n",
              "Connersville            114\n",
              "Batesville              102\n",
              "Greensburg               96\n",
              "Shelbyville              86\n",
              "Knightstown              80\n",
              "Westport                 76\n",
              "New Castle               69\n",
              "Hope                     65\n",
              "Cambridge City           65\n",
              "Saint Paul               62\n",
              "Osgood                   61\n",
              "Brookville               61\n",
              "Columbus                 59\n",
              "Morristown               57\n",
              "Hagerstown               53\n",
              "Greenfield               50\n",
              "Edinburgh                47\n",
              "Sunman                   46\n",
              "New Palestine            41\n",
              "Country Squire Lakes     39\n",
              "Pendleton                38\n",
              "Milan                    38\n",
              "North Vernon             35\n",
              "Geneva                   34\n",
              "Cumberland               31\n",
              "Versailles               31\n",
              "Seymour                  30\n",
              "Centerville              28\n",
              "Middletown               24\n",
              "Dillsboro                20\n",
              "Fortville                18\n",
              "Ingalls                  17\n",
              "McCordsville             17\n",
              "Liberty                  15\n",
              "Franklin                 15\n",
              "Lowell                   14\n",
              "Fishers                  10\n",
              "Whiteland                 6\n",
              "Lynn                      5\n",
              "Lawrence                  4\n",
              "Aurora                    1\n",
              "Name: Locality, dtype: int64"
            ]
          },
          "metadata": {
            "tags": []
          },
          "execution_count": 50
        }
      ]
    },
    {
      "cell_type": "code",
      "metadata": {
        "id": "e61eRpRtt-Co",
        "outputId": "42292509-a5d8-47eb-9c7d-e4873a5104fe",
        "colab": {
          "base_uri": "https://localhost:8080/",
          "height": 435
        }
      },
      "source": [
        "Localitydata['Average_Cost'].value_counts()"
      ],
      "execution_count": null,
      "outputs": [
        {
          "output_type": "execute_result",
          "data": {
            "text/plain": [
              "20.00     519\n",
              "15.00     429\n",
              "10.00     428\n",
              "25.00     150\n",
              "30.00     100\n",
              "40.00      58\n",
              "35.00      50\n",
              "5.00       45\n",
              "50.00      25\n",
              "60.00      22\n",
              "80.00      13\n",
              "55.00      11\n",
              "45.00       9\n",
              "65.00       8\n",
              "75.00       7\n",
              "90.00       2\n",
              "1.20        1\n",
              "150.00      1\n",
              "85.00       1\n",
              "95.00       1\n",
              "1.00        1\n",
              "100.00      1\n",
              "Name: Average_Cost, dtype: int64"
            ]
          },
          "metadata": {
            "tags": []
          },
          "execution_count": 51
        }
      ]
    },
    {
      "cell_type": "code",
      "metadata": {
        "id": "ZSCnvE1GuDTJ",
        "outputId": "5b00b1a6-9ebd-4ada-d65c-500d71df4c01",
        "colab": {
          "base_uri": "https://localhost:8080/",
          "height": 718
        }
      },
      "source": [
        "# Plot \n",
        "Localitydata['Average_Cost'] = Localitydata['Average_Cost'].astype(float)\n",
        "locality_list = list(Localitydata['Locality'].unique())\n",
        "average_cost_of_2_by_locality=[]\n",
        "for locality in locality_list:\n",
        "    x = Localitydata[Localitydata['Locality']==locality]\n",
        "    avg_cost = sum(x['Average_Cost'])/len(x)\n",
        "    average_cost_of_2_by_locality.append(avg_cost)\n",
        "data = pd.DataFrame({'locality':locality_list,'Average_Cost':average_cost_of_2_by_locality})\n",
        "new_index = (data['Average_Cost'].sort_values(ascending=False)).index.values\n",
        "sorted_data = data.reindex(new_index)\n",
        "\n",
        "plt.figure(figsize=(15,10))\n",
        "sns.barplot(x=sorted_data['locality'][:15],y=sorted_data['Average_Cost'][:15])\n",
        "plt.xticks(rotation=90)\n",
        "plt.xlabel(\"locality\")\n",
        "plt.ylabel(\"Food Cost\")\n",
        "plt.title(\"Most expensive locality based in given data\")\n",
        "plt.show()"
      ],
      "execution_count": null,
      "outputs": [
        {
          "output_type": "display_data",
          "data": {
            "image/png": "[encoded data removed]",
            "text/plain": [
              "<Figure size 1080x720 with 1 Axes>"
            ]
          },
          "metadata": {
            "tags": [],
            "needs_background": "light"
          }
        }
      ]
    },
    {
      "cell_type": "code",
      "metadata": {
        "id": "0McLwZZlvpgx"
      },
      "source": [
        "Localitydata.to_csv(\"Xtern-DS-modified.csv\")"
      ],
      "execution_count": null,
      "outputs": []
    }
  ]
}